{
 "cells": [
  {
   "cell_type": "markdown",
   "metadata": {},
   "source": [
    "#  Energy Meter Analysis\n",
    "# Data Engineer Assignment"
   ]
  },
  {
   "cell_type": "markdown",
   "metadata": {},
   "source": [
    "<img src=\"logo.png\">"
   ]
  },
  {
   "cell_type": "markdown",
   "metadata": {},
   "source": [
    "# Scenario (Assignment)"
   ]
  },
  {
   "cell_type": "markdown",
   "metadata": {},
   "source": [
    "In this repository you'll find a directory with files containing energy meter-data.\n",
    "\n",
    "Please build a PySpark solution that reads in the data and writes out a table with the energy \n",
    "usage for each meter at each 15 minute interval, including additional data fields with \n",
    "the hourly averaged energy usage and a flag indicating missing intervals. \n",
    "The only requirement is that the solution should only include native PySpark (and thereby no UDFs).\n",
    "\n",
    "The solution should be a generic solution for this problem and not tailored to the data provided.\n",
    "\n",
    "Please provide your Pyspark code to this assignment along with your \n",
    "application to the data engineering position at XYZ. We are looking forward to your solution!"
   ]
  },
  {
   "cell_type": "code",
   "execution_count": 1,
   "metadata": {},
   "outputs": [],
   "source": [
    "import os\n",
    "from pyspark.sql.session import SparkSession\n",
    "from pyspark.sql.types import DoubleType , DateType,TimestampType\n",
    "from pyspark.sql.functions import lit"
   ]
  },
  {
   "cell_type": "markdown",
   "metadata": {},
   "source": [
    "building session object"
   ]
  },
  {
   "cell_type": "code",
   "execution_count": 2,
   "metadata": {},
   "outputs": [],
   "source": [
    "sess=SparkSession.builder.master('local').appName(\"Energy_Meter_Analysis\").getOrCreate()"
   ]
  },
  {
   "cell_type": "code",
   "execution_count": 3,
   "metadata": {},
   "outputs": [],
   "source": [
    "DataDirectory = \"data//\""
   ]
  },
  {
   "cell_type": "code",
   "execution_count": 4,
   "metadata": {},
   "outputs": [
    {
     "name": "stdout",
     "output_type": "stream",
     "text": [
      "['input_0.csv', 'input_1.csv', 'input_2.csv', 'input_3.csv', 'input_4.csv', 'input_5.csv', 'input_6.csv', 'input_7.csv', 'input_8.csv', 'input_9.csv']\n"
     ]
    }
   ],
   "source": [
    "print(os.listdir(DataDirectory))"
   ]
  },
  {
   "cell_type": "code",
   "execution_count": 5,
   "metadata": {},
   "outputs": [],
   "source": [
    "#Reading Data CSV file\n",
    "df=sess.read.option(\"header\",True).csv(os.path.join(DataDirectory,\"input_0.csv\"))"
   ]
  },
  {
   "cell_type": "code",
   "execution_count": 6,
   "metadata": {},
   "outputs": [
    {
     "name": "stdout",
     "output_type": "stream",
     "text": [
      "root\n",
      " |-- _c0: string (nullable = true)\n",
      " |-- meter_id: string (nullable = true)\n",
      " |-- interval_date_time: string (nullable = true)\n",
      " |-- energy_wh: string (nullable = true)\n",
      "\n"
     ]
    }
   ],
   "source": [
    "df.printSchema()"
   ]
  },
  {
   "cell_type": "code",
   "execution_count": 7,
   "metadata": {},
   "outputs": [
    {
     "name": "stdout",
     "output_type": "stream",
     "text": [
      "+---+--------------------+--------------------+---------+\n",
      "|_c0|            meter_id|  interval_date_time|energy_wh|\n",
      "+---+--------------------+--------------------+---------+\n",
      "|  0|475bd821-23e6-463...|2020-06-06T09:15:...|    312.4|\n",
      "|  1|475bd821-23e6-463...|2020-06-04T11:45:...|    208.2|\n",
      "|  2|475bd821-23e6-463...|2020-06-04T15:15:...|    113.5|\n",
      "+---+--------------------+--------------------+---------+\n",
      "only showing top 3 rows\n",
      "\n",
      "None\n"
     ]
    }
   ],
   "source": [
    "print(df.show(3))"
   ]
  },
  {
   "cell_type": "markdown",
   "metadata": {},
   "source": [
    "# Reading all the CSV data files in single shot"
   ]
  },
  {
   "cell_type": "code",
   "execution_count": 8,
   "metadata": {},
   "outputs": [],
   "source": [
    "test=sess.read.option(\"header\", True).csv(DataDirectory+\"*.csv\")"
   ]
  },
  {
   "cell_type": "code",
   "execution_count": 9,
   "metadata": {},
   "outputs": [
    {
     "data": {
      "text/plain": [
       "1246"
      ]
     },
     "execution_count": 9,
     "metadata": {},
     "output_type": "execute_result"
    }
   ],
   "source": [
    "test.count()"
   ]
  },
  {
   "cell_type": "code",
   "execution_count": 10,
   "metadata": {},
   "outputs": [
    {
     "name": "stdout",
     "output_type": "stream",
     "text": [
      "root\n",
      " |-- _c0: string (nullable = true)\n",
      " |-- meter_id: string (nullable = true)\n",
      " |-- interval_date_time: string (nullable = true)\n",
      " |-- energy_wh: string (nullable = true)\n",
      "\n"
     ]
    }
   ],
   "source": [
    "test.printSchema()"
   ]
  },
  {
   "cell_type": "code",
   "execution_count": 11,
   "metadata": {},
   "outputs": [
    {
     "name": "stdout",
     "output_type": "stream",
     "text": [
      "<class 'pyspark.sql.dataframe.DataFrame'>\n"
     ]
    }
   ],
   "source": [
    "print(type(test))"
   ]
  },
  {
   "cell_type": "code",
   "execution_count": 12,
   "metadata": {},
   "outputs": [],
   "source": [
    "test1=test.rdd.map(lambda x:(x[1],1)).reduceByKey(lambda x,y:x+y)"
   ]
  },
  {
   "cell_type": "code",
   "execution_count": 13,
   "metadata": {},
   "outputs": [
    {
     "data": {
      "text/plain": [
       "[('475bd821-23e6-4634-83c3-d85aa0c548c9', 572),\n",
       " ('a55b578f-5bbf-4a46-a83c-1d911ed1ff95', 672),\n",
       " ('108081ae-a03d-4513-b118-b98cbe84a766', 2)]"
      ]
     },
     "execution_count": 13,
     "metadata": {},
     "output_type": "execute_result"
    }
   ],
   "source": [
    "test1.take(3)"
   ]
  },
  {
   "cell_type": "code",
   "execution_count": 14,
   "metadata": {},
   "outputs": [],
   "source": [
    "df_sorted=test.orderBy([test[1],test[2]],ascending=[False,True]) # meter ID and Date"
   ]
  },
  {
   "cell_type": "code",
   "execution_count": 15,
   "metadata": {},
   "outputs": [
    {
     "name": "stdout",
     "output_type": "stream",
     "text": [
      "+---+--------------------+--------------------+---------+\n",
      "|_c0|            meter_id|  interval_date_time|energy_wh|\n",
      "+---+--------------------+--------------------+---------+\n",
      "| 63|a55b578f-5bbf-4a4...|2020-06-01T00:00:...|    111.5|\n",
      "|121|a55b578f-5bbf-4a4...|2020-06-01T00:15:...|    111.5|\n",
      "|122|a55b578f-5bbf-4a4...|2020-06-01T00:30:...|    111.5|\n",
      "| 76|a55b578f-5bbf-4a4...|2020-06-01T00:45:...|    111.5|\n",
      "| 78|a55b578f-5bbf-4a4...|2020-06-01T01:00:...|    146.8|\n",
      "+---+--------------------+--------------------+---------+\n",
      "only showing top 5 rows\n",
      "\n"
     ]
    }
   ],
   "source": [
    "df_sorted.show(5)"
   ]
  },
  {
   "cell_type": "code",
   "execution_count": 16,
   "metadata": {},
   "outputs": [],
   "source": [
    "df_sorted=df_sorted.select(df_sorted[0].alias(\"index\").cast(DoubleType()),df_sorted[1].alias(\"Meter_ID\"),df_sorted[2].alias(\"Interval\").cast(TimestampType()),df_sorted[3].alias(\"EnergyConsumption[15Mins]\").cast(DoubleType()))"
   ]
  },
  {
   "cell_type": "code",
   "execution_count": 17,
   "metadata": {},
   "outputs": [
    {
     "name": "stdout",
     "output_type": "stream",
     "text": [
      "+-----+--------------------+-------------------+-------------------------+\n",
      "|index|            Meter_ID|           Interval|EnergyConsumption[15Mins]|\n",
      "+-----+--------------------+-------------------+-------------------------+\n",
      "| 63.0|a55b578f-5bbf-4a4...|2020-06-01 05:30:00|                    111.5|\n",
      "|121.0|a55b578f-5bbf-4a4...|2020-06-01 05:45:00|                    111.5|\n",
      "|122.0|a55b578f-5bbf-4a4...|2020-06-01 06:00:00|                    111.5|\n",
      "+-----+--------------------+-------------------+-------------------------+\n",
      "only showing top 3 rows\n",
      "\n",
      "root\n",
      " |-- index: double (nullable = true)\n",
      " |-- Meter_ID: string (nullable = true)\n",
      " |-- Interval: timestamp (nullable = true)\n",
      " |-- EnergyConsumption[15Mins]: double (nullable = true)\n",
      "\n"
     ]
    }
   ],
   "source": [
    "df_sorted.show(3)\n",
    "df_sorted.printSchema()"
   ]
  },
  {
   "cell_type": "code",
   "execution_count": 18,
   "metadata": {},
   "outputs": [],
   "source": [
    "sample=df_sorted"
   ]
  },
  {
   "cell_type": "markdown",
   "metadata": {},
   "source": [
    "# Total Consumption Per Meter"
   ]
  },
  {
   "cell_type": "code",
   "execution_count": 19,
   "metadata": {},
   "outputs": [
    {
     "data": {
      "text/plain": [
       "[('475bd821-23e6-4634-83c3-d85aa0c548c9', 192638.7),\n",
       " ('108081ae-a03d-4513-b118-b98cbe84a766', 86.0),\n",
       " ('a55b578f-5bbf-4a46-a83c-1d911ed1ff95', 196805.2)]"
      ]
     },
     "execution_count": 19,
     "metadata": {},
     "output_type": "execute_result"
    }
   ],
   "source": [
    "total_consumption_per_meter=sample.rdd.map(lambda x:(x[1],x[3])).reduceByKey(lambda a,b:round(a+b,2)).collect()\n",
    "# total_consumption_per_meter=[total_consumption[0][0],total_consumption[0][1]]\n",
    "total_consumption_per_meter"
   ]
  },
  {
   "cell_type": "markdown",
   "metadata": {},
   "source": [
    "# Total number of hours per meter (excluding NULL values)"
   ]
  },
  {
   "cell_type": "code",
   "execution_count": 20,
   "metadata": {},
   "outputs": [
    {
     "data": {
      "text/plain": [
       "[['475bd821-23e6-4634-83c3-d85aa0c548c9', 143.0],\n",
       " ['108081ae-a03d-4513-b118-b98cbe84a766', 0.5],\n",
       " ['a55b578f-5bbf-4a46-a83c-1d911ed1ff95', 125.0]]"
      ]
     },
     "execution_count": 20,
     "metadata": {},
     "output_type": "execute_result"
    }
   ],
   "source": [
    "total_hours_per_meter=sample.rdd.filter(lambda x:x[3] >0).map(lambda x:(x[1],1)).reduceByKey(lambda x,y:x+y).collect()\n",
    "total_hours_per_meter=[[i,j/4] for i,j in total_hours_per_meter]\n",
    "total_hours_per_meter"
   ]
  },
  {
   "cell_type": "markdown",
   "metadata": {},
   "source": [
    "# Total number of Missing Entries per meter"
   ]
  },
  {
   "cell_type": "code",
   "execution_count": 21,
   "metadata": {},
   "outputs": [
    {
     "data": {
      "text/plain": [
       "[['a55b578f-5bbf-4a46-a83c-1d911ed1ff95', 172]]"
      ]
     },
     "execution_count": 21,
     "metadata": {},
     "output_type": "execute_result"
    }
   ],
   "source": [
    "total_Missing_Entries_Per_Meter=sample.rdd.filter(lambda x:x[3] == 0).map(lambda x:(x[1],1)).reduceByKey(lambda a,b:round(a+b,2)).collect()\n",
    "# map(lambda x:(x[1],1)).reduceByKey(lambda a,b:round(a+b,2)).collect()\n",
    "total_Missing_Entries_Per_Meter=[[i,j] for i,j in total_Missing_Entries_Per_Meter]\n",
    "total_Missing_Entries_Per_Meter"
   ]
  },
  {
   "cell_type": "markdown",
   "metadata": {},
   "source": [
    "Merging lists based on key"
   ]
  },
  {
   "cell_type": "code",
   "execution_count": 22,
   "metadata": {},
   "outputs": [
    {
     "data": {
      "text/plain": [
       "[['475bd821-23e6-4634-83c3-d85aa0c548c9', 143.0, 192638.7, 0],\n",
       " ['108081ae-a03d-4513-b118-b98cbe84a766', 0.5, 86.0, 0],\n",
       " ['a55b578f-5bbf-4a46-a83c-1d911ed1ff95', 125.0, 196805.2, 172]]"
      ]
     },
     "execution_count": 22,
     "metadata": {},
     "output_type": "execute_result"
    }
   ],
   "source": [
    "#Combined  list with number of reading hours , total comsumption and missing values\n",
    "Merged_List=[]\n",
    "for i in  total_hours_per_meter:\n",
    "    for j in total_consumption_per_meter:\n",
    "        for k in total_Missing_Entries_Per_Meter:\n",
    "            if j[0]==i[0]:\n",
    "                if k[0]==j[0]:\n",
    "                    Merged_List.append([j[0],i[1],j[1],k[1]])\n",
    "                else:\n",
    "                    Merged_List.append([j[0],i[1],j[1],0])                    \n",
    "   \n",
    "Merged_List"
   ]
  },
  {
   "cell_type": "code",
   "execution_count": 23,
   "metadata": {},
   "outputs": [],
   "source": [
    "#not used\n",
    "# def nullCount(meterId):\n",
    "#     tmp=0\n",
    "#     for i in total_Missing_Entries_Per_Meter:\n",
    "#         if i[0][1] in meterId:\n",
    "#             tmp=i[0][1]\n",
    "#     return lit(tmp)"
   ]
  },
  {
   "cell_type": "code",
   "execution_count": 24,
   "metadata": {},
   "outputs": [
    {
     "name": "stdout",
     "output_type": "stream",
     "text": [
      "+--------------------+-----+----------------+----------------+\n",
      "|             MeterId|Hours|TotalConsumption|MissingIntervals|\n",
      "+--------------------+-----+----------------+----------------+\n",
      "|475bd821-23e6-463...|143.0|        192638.7|               0|\n",
      "|108081ae-a03d-451...|  0.5|            86.0|               0|\n",
      "|a55b578f-5bbf-4a4...|125.0|        196805.2|             172|\n",
      "+--------------------+-----+----------------+----------------+\n",
      "\n"
     ]
    }
   ],
   "source": [
    "final_df=sess.createDataFrame(Merged_List).toDF(\"MeterId\",\"Hours\",\"TotalConsumption\",\"MissingIntervals\")\n",
    "final_df.show()"
   ]
  },
  {
   "cell_type": "markdown",
   "metadata": {},
   "source": [
    "# Final Table displaying Meter ID, with avg hourly consumption, avg 15 min consumption and missing interval for each meter ID"
   ]
  },
  {
   "cell_type": "code",
   "execution_count": 25,
   "metadata": {},
   "outputs": [
    {
     "name": "stdout",
     "output_type": "stream",
     "text": [
      "+--------------------+-------------------------+------------------------+----------------+\n",
      "|             MeterId|Average_HourlyConsumption|Average_15minConsumption|MissingIntervals|\n",
      "+--------------------+-------------------------+------------------------+----------------+\n",
      "|475bd821-23e6-463...|       1347.1237762237763|       336.7809440559441|               0|\n",
      "|108081ae-a03d-451...|                    172.0|                    43.0|               0|\n",
      "|a55b578f-5bbf-4a4...|                1574.4416|                393.6104|             172|\n",
      "+--------------------+-------------------------+------------------------+----------------+\n",
      "\n"
     ]
    }
   ],
   "source": [
    "final_df.select(final_df[0],(final_df[2]/final_df[1]).cast(DoubleType()).alias(\"Average_HourlyConsumption\"),((final_df[2]/final_df[1])/4).cast(DoubleType()).alias(\"Average_15minConsumption\"), final_df[3]).show()"
   ]
  },
  {
   "cell_type": "code",
   "execution_count": null,
   "metadata": {},
   "outputs": [],
   "source": []
  },
  {
   "cell_type": "code",
   "execution_count": null,
   "metadata": {},
   "outputs": [],
   "source": []
  }
 ],
 "metadata": {
  "kernelspec": {
   "display_name": "Python 3",
   "language": "python",
   "name": "python3"
  },
  "language_info": {
   "codemirror_mode": {
    "name": "ipython",
    "version": 3
   },
   "file_extension": ".py",
   "mimetype": "text/x-python",
   "name": "python",
   "nbconvert_exporter": "python",
   "pygments_lexer": "ipython3",
   "version": "3.7.4"
  }
 },
 "nbformat": 4,
 "nbformat_minor": 2
}
